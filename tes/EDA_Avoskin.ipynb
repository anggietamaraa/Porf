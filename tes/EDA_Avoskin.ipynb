{
 "cells": [
  {
   "cell_type": "markdown",
   "id": "3a0a49a6-7ef5-43b6-8638-3a0c7e64fe9c",
   "metadata": {},
   "source": [
    "EDA Analysis for Avoskin EPR Project's"
   ]
  },
  {
   "cell_type": "code",
   "execution_count": 7,
   "id": "a001fcb6-cf29-439c-9883-7902715ed952",
   "metadata": {},
   "outputs": [],
   "source": [
    "import pandas as pd\n",
    "import numpy as np\n",
    "import matplotlib.pyplot as plt"
   ]
  },
  {
   "cell_type": "code",
   "execution_count": null,
   "id": "4b881723-c35d-4ecf-848c-8245d4b77ac6",
   "metadata": {},
   "outputs": [],
   "source": []
  }
 ],
 "metadata": {
  "kernelspec": {
   "display_name": "Python 3 (ipykernel)",
   "language": "python",
   "name": "python3"
  },
  "language_info": {
   "codemirror_mode": {
    "name": "ipython",
    "version": 3
   },
   "file_extension": ".py",
   "mimetype": "text/x-python",
   "name": "python",
   "nbconvert_exporter": "python",
   "pygments_lexer": "ipython3",
   "version": "3.7.4"
  }
 },
 "nbformat": 4,
 "nbformat_minor": 5
}
