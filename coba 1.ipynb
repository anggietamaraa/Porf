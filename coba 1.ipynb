{
 "cells": [
  {
   "cell_type": "markdown",
   "id": "3a0a49a6-7ef5-43b6-8638-3a0c7e64fe9c",
   "metadata": {},
   "source": [
    "## EDA Analysis EPR Project"
   ]
  },
  {
   "cell_type": "code",
   "execution_count": 1,
   "id": "a001fcb6-cf29-439c-9883-7902715ed952",
   "metadata": {},
   "outputs": [
    {
     "name": "stderr",
     "output_type": "stream",
     "text": [
      "\n",
      "Bad key text.latex.preview in file D:\\anaconda\\install\\lib\\site-packages\\matplotlib\\mpl-data\\stylelib\\_classic_test.mplstyle, line 123 ('text.latex.preview : False')\n",
      "You probably need to get an updated matplotlibrc file from\n",
      "https://github.com/matplotlib/matplotlib/blob/v3.5.1/matplotlibrc.template\n",
      "or from the matplotlib source distribution\n",
      "\n",
      "Bad key mathtext.fallback_to_cm in file D:\\anaconda\\install\\lib\\site-packages\\matplotlib\\mpl-data\\stylelib\\_classic_test.mplstyle, line 155 ('mathtext.fallback_to_cm : True  # When True, use symbols from the Computer Modern')\n",
      "You probably need to get an updated matplotlibrc file from\n",
      "https://github.com/matplotlib/matplotlib/blob/v3.5.1/matplotlibrc.template\n",
      "or from the matplotlib source distribution\n",
      "\n",
      "Bad key savefig.jpeg_quality in file D:\\anaconda\\install\\lib\\site-packages\\matplotlib\\mpl-data\\stylelib\\_classic_test.mplstyle, line 418 ('savefig.jpeg_quality: 95       # when a jpeg is saved, the default quality parameter.')\n",
      "You probably need to get an updated matplotlibrc file from\n",
      "https://github.com/matplotlib/matplotlib/blob/v3.5.1/matplotlibrc.template\n",
      "or from the matplotlib source distribution\n",
      "\n",
      "Bad key keymap.all_axes in file D:\\anaconda\\install\\lib\\site-packages\\matplotlib\\mpl-data\\stylelib\\_classic_test.mplstyle, line 466 ('keymap.all_axes : a                 # enable all axes')\n",
      "You probably need to get an updated matplotlibrc file from\n",
      "https://github.com/matplotlib/matplotlib/blob/v3.5.1/matplotlibrc.template\n",
      "or from the matplotlib source distribution\n",
      "\n",
      "Bad key animation.avconv_path in file D:\\anaconda\\install\\lib\\site-packages\\matplotlib\\mpl-data\\stylelib\\_classic_test.mplstyle, line 477 ('animation.avconv_path: avconv     # Path to avconv binary. Without full path')\n",
      "You probably need to get an updated matplotlibrc file from\n",
      "https://github.com/matplotlib/matplotlib/blob/v3.5.1/matplotlibrc.template\n",
      "or from the matplotlib source distribution\n",
      "\n",
      "Bad key animation.avconv_args in file D:\\anaconda\\install\\lib\\site-packages\\matplotlib\\mpl-data\\stylelib\\_classic_test.mplstyle, line 479 ('animation.avconv_args:            # Additional arguments to pass to avconv')\n",
      "You probably need to get an updated matplotlibrc file from\n",
      "https://github.com/matplotlib/matplotlib/blob/v3.5.1/matplotlibrc.template\n",
      "or from the matplotlib source distribution\n"
     ]
    }
   ],
   "source": [
    "import pandas as pd\n",
    "import numpy as np\n",
    "import matplotlib.pyplot as plt\n",
    "import seaborn as sns"
   ]
  },
  {
   "cell_type": "markdown",
   "id": "5a7af364-a446-4b84-808f-acec32708a7a",
   "metadata": {},
   "source": [
    "**Import data**"
   ]
  },
  {
   "cell_type": "code",
   "execution_count": 2,
   "id": "4b881723-c35d-4ecf-848c-8245d4b77ac6",
   "metadata": {},
   "outputs": [
    {
     "data": {
      "text/html": [
       "<div>\n",
       "<style scoped>\n",
       "    .dataframe tbody tr th:only-of-type {\n",
       "        vertical-align: middle;\n",
       "    }\n",
       "\n",
       "    .dataframe tbody tr th {\n",
       "        vertical-align: top;\n",
       "    }\n",
       "\n",
       "    .dataframe thead th {\n",
       "        text-align: right;\n",
       "    }\n",
       "</style>\n",
       "<table border=\"1\" class=\"dataframe\">\n",
       "  <thead>\n",
       "    <tr style=\"text-align: right;\">\n",
       "      <th></th>\n",
       "      <th>COLLECT_ID</th>\n",
       "      <th>CODE</th>\n",
       "      <th>PROGRAM</th>\n",
       "      <th>STATUS_ID</th>\n",
       "      <th>STATUS</th>\n",
       "      <th>DATE</th>\n",
       "      <th>FROM_CITY</th>\n",
       "      <th>CITY_DESTINATION</th>\n",
       "      <th>PLACE_ID</th>\n",
       "      <th>PLACE_NAME</th>\n",
       "      <th>COURIER_ID</th>\n",
       "      <th>COURIER</th>\n",
       "      <th>COURIER_TYPE</th>\n",
       "      <th>COURIER_PRICE</th>\n",
       "      <th>USER_ID</th>\n",
       "      <th>GENDER</th>\n",
       "      <th>type</th>\n",
       "    </tr>\n",
       "  </thead>\n",
       "  <tbody>\n",
       "    <tr>\n",
       "      <th>0</th>\n",
       "      <td>42130</td>\n",
       "      <td>COL42130</td>\n",
       "      <td>R EVENT</td>\n",
       "      <td>4</td>\n",
       "      <td>DONE</td>\n",
       "      <td>2022-02-28 20:39:29</td>\n",
       "      <td>Kabupaten Bandung</td>\n",
       "      <td>kota bandung</td>\n",
       "      <td>46</td>\n",
       "      <td>RCP 46</td>\n",
       "      <td>8</td>\n",
       "      <td>JNE Express</td>\n",
       "      <td>trackable</td>\n",
       "      <td>0.0</td>\n",
       "      <td>30684</td>\n",
       "      <td>Others</td>\n",
       "      <td>1</td>\n",
       "    </tr>\n",
       "    <tr>\n",
       "      <th>1</th>\n",
       "      <td>42106</td>\n",
       "      <td>COL42106</td>\n",
       "      <td>R EVENT</td>\n",
       "      <td>4</td>\n",
       "      <td>DONE</td>\n",
       "      <td>2022-02-28 13:44:06</td>\n",
       "      <td>Kota Tangerang Selatan</td>\n",
       "      <td>kota adm. jakarta selatan</td>\n",
       "      <td>113</td>\n",
       "      <td>RCP 113</td>\n",
       "      <td>6</td>\n",
       "      <td>GoSend</td>\n",
       "      <td>integrated</td>\n",
       "      <td>27000.0</td>\n",
       "      <td>33486</td>\n",
       "      <td>Others</td>\n",
       "      <td>1</td>\n",
       "    </tr>\n",
       "    <tr>\n",
       "      <th>2</th>\n",
       "      <td>42105</td>\n",
       "      <td>COL42105</td>\n",
       "      <td>R EVENT</td>\n",
       "      <td>4</td>\n",
       "      <td>DONE</td>\n",
       "      <td>2022-02-28 13:43:14</td>\n",
       "      <td>Kota Tangerang Selatan</td>\n",
       "      <td>kota adm. jakarta selatan</td>\n",
       "      <td>113</td>\n",
       "      <td>RCP 113</td>\n",
       "      <td>6</td>\n",
       "      <td>GoSend</td>\n",
       "      <td>integrated</td>\n",
       "      <td>20000.0</td>\n",
       "      <td>33368</td>\n",
       "      <td>Others</td>\n",
       "      <td>1</td>\n",
       "    </tr>\n",
       "    <tr>\n",
       "      <th>3</th>\n",
       "      <td>42091</td>\n",
       "      <td>COL42091</td>\n",
       "      <td>R EVENT</td>\n",
       "      <td>4</td>\n",
       "      <td>DONE</td>\n",
       "      <td>2022-02-28 11:41:35</td>\n",
       "      <td>Kabupaten Sleman</td>\n",
       "      <td>kota semarang</td>\n",
       "      <td>55</td>\n",
       "      <td>RCP 55</td>\n",
       "      <td>10</td>\n",
       "      <td>J&amp;T Express Indonesia</td>\n",
       "      <td>trackable</td>\n",
       "      <td>0.0</td>\n",
       "      <td>31520</td>\n",
       "      <td>Others</td>\n",
       "      <td>1</td>\n",
       "    </tr>\n",
       "    <tr>\n",
       "      <th>4</th>\n",
       "      <td>42082</td>\n",
       "      <td>COL42082</td>\n",
       "      <td>R EVENT</td>\n",
       "      <td>4</td>\n",
       "      <td>DONE</td>\n",
       "      <td>2022-02-28 10:59:14</td>\n",
       "      <td>Kota Jakarta Pusat</td>\n",
       "      <td>kota adm. jakarta pusat</td>\n",
       "      <td>145</td>\n",
       "      <td>RCP 145</td>\n",
       "      <td>25</td>\n",
       "      <td>Bawa Sendiri</td>\n",
       "      <td>other</td>\n",
       "      <td>0.0</td>\n",
       "      <td>24092</td>\n",
       "      <td>Female</td>\n",
       "      <td>1</td>\n",
       "    </tr>\n",
       "  </tbody>\n",
       "</table>\n",
       "</div>"
      ],
      "text/plain": [
       "   COLLECT_ID      CODE  PROGRAM  STATUS_ID STATUS                 DATE  \\\n",
       "0       42130  COL42130  R EVENT          4   DONE  2022-02-28 20:39:29   \n",
       "1       42106  COL42106  R EVENT          4   DONE  2022-02-28 13:44:06   \n",
       "2       42105  COL42105  R EVENT          4   DONE  2022-02-28 13:43:14   \n",
       "3       42091  COL42091  R EVENT          4   DONE  2022-02-28 11:41:35   \n",
       "4       42082  COL42082  R EVENT          4   DONE  2022-02-28 10:59:14   \n",
       "\n",
       "                FROM_CITY           CITY_DESTINATION  PLACE_ID PLACE_NAME  \\\n",
       "0       Kabupaten Bandung               kota bandung        46     RCP 46   \n",
       "1  Kota Tangerang Selatan  kota adm. jakarta selatan       113    RCP 113   \n",
       "2  Kota Tangerang Selatan  kota adm. jakarta selatan       113    RCP 113   \n",
       "3        Kabupaten Sleman              kota semarang        55     RCP 55   \n",
       "4      Kota Jakarta Pusat    kota adm. jakarta pusat       145    RCP 145   \n",
       "\n",
       "   COURIER_ID                COURIER COURIER_TYPE  COURIER_PRICE  USER_ID  \\\n",
       "0           8            JNE Express    trackable            0.0    30684   \n",
       "1           6                 GoSend   integrated        27000.0    33486   \n",
       "2           6                 GoSend   integrated        20000.0    33368   \n",
       "3          10  J&T Express Indonesia    trackable            0.0    31520   \n",
       "4          25           Bawa Sendiri        other            0.0    24092   \n",
       "\n",
       "   GENDER  type  \n",
       "0  Others     1  \n",
       "1  Others     1  \n",
       "2  Others     1  \n",
       "3  Others     1  \n",
       "4  Female     1  "
      ]
     },
     "execution_count": 2,
     "metadata": {},
     "output_type": "execute_result"
    }
   ],
   "source": [
    "df_collect = pd.read_csv('./complete_a.csv')\n",
    "df_collect.head()"
   ]
  },
  {
   "cell_type": "markdown",
   "id": "40744b2a-483d-4bbb-9a7b-47f15ebb8261",
   "metadata": {},
   "source": [
    "**Check Data**"
   ]
  },
  {
   "cell_type": "code",
   "execution_count": 3,
   "id": "4b36c1b7-6816-4aec-956c-a307864e3f63",
   "metadata": {},
   "outputs": [
    {
     "data": {
      "text/plain": [
       "(740, 17)"
      ]
     },
     "execution_count": 3,
     "metadata": {},
     "output_type": "execute_result"
    }
   ],
   "source": [
    "# check row and column\n",
    "df_collect.shape"
   ]
  },
  {
   "cell_type": "code",
   "execution_count": 4,
   "id": "7ba33be2-7d74-444d-94c3-ca86137a4f0d",
   "metadata": {},
   "outputs": [
    {
     "data": {
      "text/plain": [
       "Index(['COLLECT_ID', 'CODE', 'PROGRAM', 'STATUS_ID', 'STATUS', 'DATE',\n",
       "       'FROM_CITY', 'CITY_DESTINATION', 'PLACE_ID', 'PLACE_NAME', 'COURIER_ID',\n",
       "       'COURIER', 'COURIER_TYPE', 'COURIER_PRICE', 'USER_ID', 'GENDER',\n",
       "       'type'],\n",
       "      dtype='object')"
      ]
     },
     "execution_count": 4,
     "metadata": {},
     "output_type": "execute_result"
    }
   ],
   "source": [
    "# check data types \n",
    "df_collect.columns"
   ]
  },
  {
   "cell_type": "code",
   "execution_count": 5,
   "id": "5a949b23-afa7-441d-83be-df797b7dbcd3",
   "metadata": {},
   "outputs": [
    {
     "data": {
      "text/plain": [
       "COLLECT_ID                   int64\n",
       "CODE                        object\n",
       "PROGRAM                     object\n",
       "STATUS_ID                    int64\n",
       "STATUS                      object\n",
       "DATE                datetime64[ns]\n",
       "FROM_CITY                   object\n",
       "CITY_DESTINATION            object\n",
       "PLACE_ID                     int64\n",
       "PLACE_NAME                  object\n",
       "COURIER_ID                   int64\n",
       "COURIER                     object\n",
       "COURIER_TYPE                object\n",
       "COURIER_PRICE              float64\n",
       "USER_ID                      int64\n",
       "GENDER                      object\n",
       "type                         int64\n",
       "dtype: object"
      ]
     },
     "execution_count": 5,
     "metadata": {},
     "output_type": "execute_result"
    }
   ],
   "source": [
    "#change data types\n",
    "df_collect['DATE'] = pd.to_datetime(df_collect['DATE'])\n",
    "df_collect.dtypes"
   ]
  },
  {
   "cell_type": "code",
   "execution_count": 6,
   "id": "60cc8f19-a946-4c8f-a6c7-bf5c9f00eef2",
   "metadata": {},
   "outputs": [],
   "source": [
    "df_collect.drop(['CODE', 'STATUS_ID'], axis=\"columns\", inplace=True)"
   ]
  },
  {
   "cell_type": "code",
   "execution_count": 7,
   "id": "4356027d-a2f2-448d-a998-fe3756e0f081",
   "metadata": {},
   "outputs": [
    {
     "data": {
      "text/plain": [
       "Index(['COLLECT_ID', 'PROGRAM', 'STATUS', 'DATE', 'FROM_CITY',\n",
       "       'CITY_DESTINATION', 'PLACE_ID', 'PLACE_NAME', 'COURIER_ID', 'COURIER',\n",
       "       'COURIER_TYPE', 'COURIER_PRICE', 'USER_ID', 'GENDER',\n",
       "       'TYPES_OF_REWARD'],\n",
       "      dtype='object')"
      ]
     },
     "execution_count": 7,
     "metadata": {},
     "output_type": "execute_result"
    }
   ],
   "source": [
    "# rename column\n",
    "df_collect.rename(columns = {\"type\":\"TYPES_OF_REWARD\", }, inplace= \"True\")\n",
    "df_collect.columns"
   ]
  },
  {
   "cell_type": "code",
   "execution_count": 8,
   "id": "d2ab4e84-bc8d-486b-919a-6840b87e329f",
   "metadata": {},
   "outputs": [],
   "source": [
    "# df_collect.isnull().sum()"
   ]
  },
  {
   "cell_type": "code",
   "execution_count": 9,
   "id": "6fd10bc7-1b84-4079-9fea-8c751b5650b2",
   "metadata": {},
   "outputs": [],
   "source": [
    "# df_collect[df_collect['SENDER CITY'].isnull()]"
   ]
  },
  {
   "cell_type": "code",
   "execution_count": 10,
   "id": "2698bcf5-3758-4ae1-a552-99301d1eee32",
   "metadata": {},
   "outputs": [
    {
     "data": {
      "text/html": [
       "<div>\n",
       "<style scoped>\n",
       "    .dataframe tbody tr th:only-of-type {\n",
       "        vertical-align: middle;\n",
       "    }\n",
       "\n",
       "    .dataframe tbody tr th {\n",
       "        vertical-align: top;\n",
       "    }\n",
       "\n",
       "    .dataframe thead th {\n",
       "        text-align: right;\n",
       "    }\n",
       "</style>\n",
       "<table border=\"1\" class=\"dataframe\">\n",
       "  <thead>\n",
       "    <tr style=\"text-align: right;\">\n",
       "      <th></th>\n",
       "      <th>COLLECT_ID</th>\n",
       "      <th>PROGRAM</th>\n",
       "      <th>STATUS</th>\n",
       "      <th>DATE</th>\n",
       "      <th>FROM_CITY</th>\n",
       "      <th>CITY_DESTINATION</th>\n",
       "      <th>PLACE_ID</th>\n",
       "      <th>PLACE_NAME</th>\n",
       "      <th>COURIER_ID</th>\n",
       "      <th>COURIER</th>\n",
       "      <th>COURIER_TYPE</th>\n",
       "      <th>COURIER_PRICE</th>\n",
       "      <th>USER_ID</th>\n",
       "      <th>GENDER</th>\n",
       "      <th>TYPES_OF_REWARD</th>\n",
       "      <th>HOUR</th>\n",
       "      <th>DAY</th>\n",
       "      <th>MONTH</th>\n",
       "      <th>YEAR</th>\n",
       "    </tr>\n",
       "  </thead>\n",
       "  <tbody>\n",
       "    <tr>\n",
       "      <th>735</th>\n",
       "      <td>24726</td>\n",
       "      <td>R EVENT</td>\n",
       "      <td>DONE</td>\n",
       "      <td>2021-09-02 19:45:05</td>\n",
       "      <td>kota surabaya</td>\n",
       "      <td>kota semarang</td>\n",
       "      <td>53</td>\n",
       "      <td>RCP 53</td>\n",
       "      <td>14</td>\n",
       "      <td>Wahana</td>\n",
       "      <td>trackable</td>\n",
       "      <td>0.0</td>\n",
       "      <td>20757</td>\n",
       "      <td>Female</td>\n",
       "      <td>2</td>\n",
       "      <td>19</td>\n",
       "      <td>Thursday</td>\n",
       "      <td>September</td>\n",
       "      <td>2021</td>\n",
       "    </tr>\n",
       "    <tr>\n",
       "      <th>736</th>\n",
       "      <td>24721</td>\n",
       "      <td>R EVENT</td>\n",
       "      <td>DONE</td>\n",
       "      <td>2021-09-02 19:36:47</td>\n",
       "      <td>kota bekasi</td>\n",
       "      <td>kota adm. jakarta pusat</td>\n",
       "      <td>144</td>\n",
       "      <td>RCP 144</td>\n",
       "      <td>10</td>\n",
       "      <td>J&amp;T Express Indonesia</td>\n",
       "      <td>trackable</td>\n",
       "      <td>0.0</td>\n",
       "      <td>20755</td>\n",
       "      <td>Female</td>\n",
       "      <td>1</td>\n",
       "      <td>19</td>\n",
       "      <td>Thursday</td>\n",
       "      <td>September</td>\n",
       "      <td>2021</td>\n",
       "    </tr>\n",
       "    <tr>\n",
       "      <th>737</th>\n",
       "      <td>24719</td>\n",
       "      <td>R EVENT</td>\n",
       "      <td>DONE</td>\n",
       "      <td>2021-09-02 19:34:16</td>\n",
       "      <td>kota depok</td>\n",
       "      <td>kota adm. jakarta selatan</td>\n",
       "      <td>142</td>\n",
       "      <td>RCP 142</td>\n",
       "      <td>10</td>\n",
       "      <td>J&amp;T Express Indonesia</td>\n",
       "      <td>trackable</td>\n",
       "      <td>0.0</td>\n",
       "      <td>20753</td>\n",
       "      <td>Female</td>\n",
       "      <td>1</td>\n",
       "      <td>19</td>\n",
       "      <td>Thursday</td>\n",
       "      <td>September</td>\n",
       "      <td>2021</td>\n",
       "    </tr>\n",
       "    <tr>\n",
       "      <th>738</th>\n",
       "      <td>24607</td>\n",
       "      <td>R EVENT</td>\n",
       "      <td>DONE</td>\n",
       "      <td>2021-09-01 15:10:48</td>\n",
       "      <td>kota adm. jakarta pusat</td>\n",
       "      <td>kota adm. jakarta selatan</td>\n",
       "      <td>142</td>\n",
       "      <td>RCP 142</td>\n",
       "      <td>11</td>\n",
       "      <td>SiCepat</td>\n",
       "      <td>trackable</td>\n",
       "      <td>0.0</td>\n",
       "      <td>20699</td>\n",
       "      <td>Female</td>\n",
       "      <td>1</td>\n",
       "      <td>15</td>\n",
       "      <td>Wednesday</td>\n",
       "      <td>September</td>\n",
       "      <td>2021</td>\n",
       "    </tr>\n",
       "    <tr>\n",
       "      <th>739</th>\n",
       "      <td>24598</td>\n",
       "      <td>R EVENT</td>\n",
       "      <td>DONE</td>\n",
       "      <td>2021-09-01 13:48:43</td>\n",
       "      <td>kota batu</td>\n",
       "      <td>kota semarang</td>\n",
       "      <td>53</td>\n",
       "      <td>RCP 53</td>\n",
       "      <td>8</td>\n",
       "      <td>JNE Express</td>\n",
       "      <td>trackable</td>\n",
       "      <td>0.0</td>\n",
       "      <td>20692</td>\n",
       "      <td>Female</td>\n",
       "      <td>2</td>\n",
       "      <td>13</td>\n",
       "      <td>Wednesday</td>\n",
       "      <td>September</td>\n",
       "      <td>2021</td>\n",
       "    </tr>\n",
       "  </tbody>\n",
       "</table>\n",
       "</div>"
      ],
      "text/plain": [
       "     COLLECT_ID  PROGRAM STATUS                DATE                FROM_CITY  \\\n",
       "735       24726  R EVENT   DONE 2021-09-02 19:45:05            kota surabaya   \n",
       "736       24721  R EVENT   DONE 2021-09-02 19:36:47              kota bekasi   \n",
       "737       24719  R EVENT   DONE 2021-09-02 19:34:16               kota depok   \n",
       "738       24607  R EVENT   DONE 2021-09-01 15:10:48  kota adm. jakarta pusat   \n",
       "739       24598  R EVENT   DONE 2021-09-01 13:48:43                kota batu   \n",
       "\n",
       "              CITY_DESTINATION  PLACE_ID PLACE_NAME  COURIER_ID  \\\n",
       "735              kota semarang        53     RCP 53          14   \n",
       "736    kota adm. jakarta pusat       144    RCP 144          10   \n",
       "737  kota adm. jakarta selatan       142    RCP 142          10   \n",
       "738  kota adm. jakarta selatan       142    RCP 142          11   \n",
       "739              kota semarang        53     RCP 53           8   \n",
       "\n",
       "                   COURIER COURIER_TYPE  COURIER_PRICE  USER_ID  GENDER  \\\n",
       "735                 Wahana    trackable            0.0    20757  Female   \n",
       "736  J&T Express Indonesia    trackable            0.0    20755  Female   \n",
       "737  J&T Express Indonesia    trackable            0.0    20753  Female   \n",
       "738                SiCepat    trackable            0.0    20699  Female   \n",
       "739            JNE Express    trackable            0.0    20692  Female   \n",
       "\n",
       "     TYPES_OF_REWARD  HOUR        DAY      MONTH  YEAR  \n",
       "735                2    19   Thursday  September  2021  \n",
       "736                1    19   Thursday  September  2021  \n",
       "737                1    19   Thursday  September  2021  \n",
       "738                1    15  Wednesday  September  2021  \n",
       "739                2    13  Wednesday  September  2021  "
      ]
     },
     "execution_count": 10,
     "metadata": {},
     "output_type": "execute_result"
    }
   ],
   "source": [
    "df_collect['HOUR'] = df_collect['DATE'].dt.hour\n",
    "df_collect['DAY'] = df_collect['DATE'].dt.day_name()\n",
    "df_collect['MONTH'] = df_collect['DATE'].dt.month_name()\n",
    "df_collect['YEAR'] = df_collect['DATE'].dt.year\n",
    "df_collect.tail()"
   ]
  },
  {
   "cell_type": "markdown",
   "id": "820eeb20-b4a9-48c7-9297-d90c80d3fbfb",
   "metadata": {},
   "source": [
    "#### Question 1: What is the best month to complete a transaction? How much did you earn that month?"
   ]
  },
  {
   "cell_type": "code",
   "execution_count": 11,
   "id": "a2fb6b65-3dc6-4bfd-afd6-e4db8bdc68ce",
   "metadata": {},
   "outputs": [
    {
     "data": {
      "text/plain": [
       "MONTH\n",
       "December     109\n",
       "February     188\n",
       "January      102\n",
       "November      53\n",
       "October      151\n",
       "September    137\n",
       "Name: COLLECT_ID, dtype: int64"
      ]
     },
     "execution_count": 11,
     "metadata": {},
     "output_type": "execute_result"
    }
   ],
   "source": [
    "month_group = df_collect.groupby('MONTH')\n",
    "total = month_group.count()['COLLECT_ID']\n",
    "total\n",
    "# months = [month_group for month_group, df_collect in total]\n",
    "\n",
    "# plt.bar(month_group, total)\n"
   ]
  },
  {
   "cell_type": "code",
   "execution_count": 12,
   "id": "6ea4eac0-e5e9-44ed-a085-80d52d26e6bd",
   "metadata": {},
   "outputs": [
    {
     "data": {
      "text/plain": [
       "Text(0, 0.5, 'Quantity')"
      ]
     },
     "execution_count": 12,
     "metadata": {},
     "output_type": "execute_result"
    },
    {
     "data": {
      "image/png": "[encoded data removed]",
      "text/plain": [
       "<Figure size 576x432 with 1 Axes>"
      ]
     },
     "metadata": {
      "needs_background": "light"
     },
     "output_type": "display_data"
    }
   ],
   "source": [
    "plt.figure(figsize = (8,6))\n",
    "p = sns.countplot(x=\"MONTH\", data=df_collect)\n",
    "plt.title('Total Complete')\n",
    "plt.xlabel('Month')\n",
    "plt.ylabel('Quantity')"
   ]
  },
  {
   "cell_type": "code",
   "execution_count": 13,
   "id": "9e6423de-ce33-4e41-8aea-2eaefe26c465",
   "metadata": {},
   "outputs": [
    {
     "data": {
      "text/plain": [
       "Text(0, 0.5, 'Quantity')"
      ]
     },
     "execution_count": 13,
     "metadata": {},
     "output_type": "execute_result"
    },
    {
     "data": {
      "image/png": "[encoded data removed]",
      "text/plain": [
       "<Figure size 576x432 with 1 Axes>"
      ]
     },
     "metadata": {
      "needs_background": "light"
     },
     "output_type": "display_data"
    }
   ],
   "source": [
    "plt.figure(figsize = (8,6))\n",
    "p = sns.countplot(x=\"YEAR\", data=df_collect)\n",
    "plt.title('Total Complete')\n",
    "plt.xlabel('Year')\n",
    "plt.ylabel('Quantity')"
   ]
  },
  {
   "cell_type": "code",
   "execution_count": 14,
   "id": "150967ca-994b-4215-bd1c-ce6bb768a99f",
   "metadata": {},
   "outputs": [
    {
     "data": {
      "text/plain": [
       "Text(0, 0.5, 'Quantity')"
      ]
     },
     "execution_count": 14,
     "metadata": {},
     "output_type": "execute_result"
    },
    {
     "data": {
      "image/png": "[encoded data removed]",
      "text/plain": [
       "<Figure size 576x432 with 1 Axes>"
      ]
     },
     "metadata": {
      "needs_background": "light"
     },
     "output_type": "display_data"
    }
   ],
   "source": [
    "plt.figure(figsize = (8,6))\n",
    "p = sns.countplot(x=\"DAY\", data=df_collect)\n",
    "plt.title('Total Complete')\n",
    "plt.xlabel('Month')\n",
    "plt.ylabel('Quantity')"
   ]
  },
  {
   "cell_type": "code",
   "execution_count": 15,
   "id": "5421cc0a-59f3-4d22-b1a0-9a93bbadd7c6",
   "metadata": {},
   "outputs": [
    {
     "data": {
      "text/plain": [
       "array([<AxesSubplot:ylabel='COLLECT_ID'>], dtype=object)"
      ]
     },
     "execution_count": 15,
     "metadata": {},
     "output_type": "execute_result"
    },
    {
     "data": {
      "image/png": "[encoded data removed]",
      "text/plain": [
       "<Figure size 576x432 with 1 Axes>"
      ]
     },
     "metadata": {},
     "output_type": "display_data"
    }
   ],
   "source": [
    "colors = ['pink', 'silver', 'steelblue']\n",
    "  \n",
    "# Define the ratio of gap of each fragment in a tuple\n",
    "explode = (0.05, 0.02, 0.02)\n",
    "  \n",
    "# Plotting the pie chart for above dataframe\n",
    "df_collect.groupby('GENDER').count()[['COLLECT_ID']].plot(kind='pie', subplots=True, autopct='%1.0f%%',\n",
    "  colors=colors, explode=explode, figsize=(8,6))"
   ]
  },
  {
   "cell_type": "code",
   "execution_count": 16,
   "id": "2193047c-b034-4065-9548-67b06d2e4100",
   "metadata": {},
   "outputs": [
    {
     "data": {
      "text/plain": [
       "Text(0, 0.5, 'Quantity')"
      ]
     },
     "execution_count": 16,
     "metadata": {},
     "output_type": "execute_result"
    },
    {
     "data": {
      "image/png": "[encoded data removed]",
      "text/plain": [
       "<Figure size 576x432 with 1 Axes>"
      ]
     },
     "metadata": {
      "needs_background": "light"
     },
     "output_type": "display_data"
    }
   ],
   "source": [
    "plt.figure(figsize = (8,6))\n",
    "p = sns.countplot(x=\"HOUR\", data=df_collect)\n",
    "plt.title('Time User\\'s Create Transactions')\n",
    "plt.xlabel('Hour')\n",
    "plt.ylabel('Quantity')"
   ]
  },
  {
   "cell_type": "code",
   "execution_count": 17,
   "id": "d30fcf0c-582e-4c8a-94fd-f990590afc52",
   "metadata": {},
   "outputs": [
    {
     "data": {
      "text/plain": [
       "Text(0, 0.5, 'Quantity')"
      ]
     },
     "execution_count": 17,
     "metadata": {},
     "output_type": "execute_result"
    },
    {
     "data": {
      "image/png": "[encoded data removed]",
      "text/plain": [
       "<Figure size 576x432 with 1 Axes>"
      ]
     },
     "metadata": {
      "needs_background": "light"
     },
     "output_type": "display_data"
    }
   ],
   "source": [
    "plt.figure(figsize = (8,6))\n",
    "p = sns.countplot(x=\"TYPES_OF_REWARD\", data=df_collect)\n",
    "plt.title('User\\'s Get Reward')\n",
    "plt.xlabel('Type')\n",
    "plt.ylabel('Quantity')"
   ]
  },
  {
   "cell_type": "code",
   "execution_count": 18,
   "id": "cc5f2e36-ce49-4209-8966-63844d1e617d",
   "metadata": {},
   "outputs": [
    {
     "data": {
      "text/plain": [
       "Text(0, 0.5, 'Quantity')"
      ]
     },
     "execution_count": 18,
     "metadata": {},
     "output_type": "execute_result"
    },
    {
     "data": {
      "image/png": "[encoded data removed]",
      "text/plain": [
       "<Figure size 576x432 with 1 Axes>"
      ]
     },
     "metadata": {
      "needs_background": "light"
     },
     "output_type": "display_data"
    }
   ],
   "source": [
    "plt.figure(figsize = (8,6))\n",
    "p = sns.countplot(x=\"COURIER\", data=df_collect)\n",
    "plt.title('User\\'s Choose Courier')\n",
    "plt.xticks(rotation = 'vertical', size=8)\n",
    "plt.xlabel('Courier')\n",
    "plt.ylabel('Quantity')"
   ]
  },
  {
   "cell_type": "code",
   "execution_count": 19,
   "id": "e3e3997c-a0f5-4af0-9623-a63bf9dbcdac",
   "metadata": {},
   "outputs": [
    {
     "data": {
      "text/plain": [
       "Text(0, 0.5, 'Quantity')"
      ]
     },
     "execution_count": 19,
     "metadata": {},
     "output_type": "execute_result"
    },
    {
     "data": {
      "image/png": "[encoded data removed]",
      "text/plain": [
       "<Figure size 576x432 with 1 Axes>"
      ]
     },
     "metadata": {
      "needs_background": "light"
     },
     "output_type": "display_data"
    }
   ],
   "source": [
    "plt.figure(figsize = (8,6))\n",
    "p = sns.countplot(x=\"PLACE_NAME\", data=df_collect)\n",
    "plt.title('Total Collect by Waste Bank')\n",
    "plt.xticks(rotation = 'vertical', size=8)\n",
    "plt.xlabel('Month')\n",
    "plt.ylabel('Quantity')"
   ]
  },
  {
   "cell_type": "code",
   "execution_count": 20,
   "id": "639ab178-4c6a-4070-9088-0b50125cb5ef",
   "metadata": {},
   "outputs": [
    {
     "data": {
      "text/plain": [
       "['FROM_CITY']"
      ]
     },
     "execution_count": 20,
     "metadata": {},
     "output_type": "execute_result"
    }
   ],
   "source": [
    "[features for features in df_collect.columns if df_collect[features].isnull().sum()>0]"
   ]
  },
  {
   "cell_type": "code",
   "execution_count": 21,
   "id": "7ebadb32-b9ca-4d9d-8b93-a5c3f85f14b3",
   "metadata": {},
   "outputs": [
    {
     "data": {
      "text/plain": [
       "Index(['kota adm. jakarta selatan', 'kota bekasi', 'Kota Jakarta Selatan',\n",
       "       'Kota Jakarta Timur', 'kota adm. jakarta timur',\n",
       "       'Kota Tangerang Selatan', 'Kota Bandung', 'Kota Depok', 'kota surabaya',\n",
       "       'Kabupaten Sidoarjo',\n",
       "       ...\n",
       "       'kab. kendal', 'kab. serang', 'kota pekalongan', 'Kabupaten Tegal',\n",
       "       'kab. pangandaran', 'Kabupaten Lampung Timur Lampung',\n",
       "       'kab. rejang lebong', 'Kota Sukabumi', 'Kabupaten Kudus', 'kota batu'],\n",
       "      dtype='object', length=206)"
      ]
     },
     "execution_count": 21,
     "metadata": {},
     "output_type": "execute_result"
    }
   ],
   "source": [
    "from_city= df_collect.FROM_CITY.value_counts().index\n",
    "from_city"
   ]
  },
  {
   "cell_type": "code",
   "execution_count": 22,
   "id": "f33d1db7-bc3a-4663-af2e-10a4178f3d02",
   "metadata": {},
   "outputs": [
    {
     "data": {
      "text/html": [
       "<div>\n",
       "<style scoped>\n",
       "    .dataframe tbody tr th:only-of-type {\n",
       "        vertical-align: middle;\n",
       "    }\n",
       "\n",
       "    .dataframe tbody tr th {\n",
       "        vertical-align: top;\n",
       "    }\n",
       "\n",
       "    .dataframe thead th {\n",
       "        text-align: right;\n",
       "    }\n",
       "</style>\n",
       "<table border=\"1\" class=\"dataframe\">\n",
       "  <thead>\n",
       "    <tr style=\"text-align: right;\">\n",
       "      <th></th>\n",
       "      <th>index</th>\n",
       "      <th>city</th>\n",
       "    </tr>\n",
       "  </thead>\n",
       "  <tbody>\n",
       "    <tr>\n",
       "      <th>0</th>\n",
       "      <td>0</td>\n",
       "      <td>kota adm. jakarta selatan</td>\n",
       "    </tr>\n",
       "    <tr>\n",
       "      <th>1</th>\n",
       "      <td>1</td>\n",
       "      <td>kota bekasi</td>\n",
       "    </tr>\n",
       "    <tr>\n",
       "      <th>2</th>\n",
       "      <td>2</td>\n",
       "      <td>Kota Jakarta Selatan</td>\n",
       "    </tr>\n",
       "    <tr>\n",
       "      <th>3</th>\n",
       "      <td>3</td>\n",
       "      <td>Kota Jakarta Timur</td>\n",
       "    </tr>\n",
       "    <tr>\n",
       "      <th>4</th>\n",
       "      <td>4</td>\n",
       "      <td>kota adm. jakarta timur</td>\n",
       "    </tr>\n",
       "    <tr>\n",
       "      <th>...</th>\n",
       "      <td>...</td>\n",
       "      <td>...</td>\n",
       "    </tr>\n",
       "    <tr>\n",
       "      <th>201</th>\n",
       "      <td>201</td>\n",
       "      <td>Kabupaten Lampung Timur Lampung</td>\n",
       "    </tr>\n",
       "    <tr>\n",
       "      <th>202</th>\n",
       "      <td>202</td>\n",
       "      <td>kab. rejang lebong</td>\n",
       "    </tr>\n",
       "    <tr>\n",
       "      <th>203</th>\n",
       "      <td>203</td>\n",
       "      <td>Kota Sukabumi</td>\n",
       "    </tr>\n",
       "    <tr>\n",
       "      <th>204</th>\n",
       "      <td>204</td>\n",
       "      <td>Kabupaten Kudus</td>\n",
       "    </tr>\n",
       "    <tr>\n",
       "      <th>205</th>\n",
       "      <td>205</td>\n",
       "      <td>kota batu</td>\n",
       "    </tr>\n",
       "  </tbody>\n",
       "</table>\n",
       "<p>206 rows × 2 columns</p>\n",
       "</div>"
      ],
      "text/plain": [
       "     index                             city\n",
       "0        0        kota adm. jakarta selatan\n",
       "1        1                      kota bekasi\n",
       "2        2             Kota Jakarta Selatan\n",
       "3        3               Kota Jakarta Timur\n",
       "4        4          kota adm. jakarta timur\n",
       "..     ...                              ...\n",
       "201    201  Kabupaten Lampung Timur Lampung\n",
       "202    202               kab. rejang lebong\n",
       "203    203                    Kota Sukabumi\n",
       "204    204                  Kabupaten Kudus\n",
       "205    205                        kota batu\n",
       "\n",
       "[206 rows x 2 columns]"
      ]
     },
     "execution_count": 22,
     "metadata": {},
     "output_type": "execute_result"
    }
   ],
   "source": [
    "df_city = pd.DataFrame(data=from_city).rename(columns={0:\"city\"}).reset_index()\n",
    "df_city"
   ]
  },
  {
   "cell_type": "code",
   "execution_count": 23,
   "id": "d9824fa7-853e-4034-bdb8-34c573ea7c97",
   "metadata": {},
   "outputs": [
    {
     "data": {
      "text/html": [
       "<div>\n",
       "<style scoped>\n",
       "    .dataframe tbody tr th:only-of-type {\n",
       "        vertical-align: middle;\n",
       "    }\n",
       "\n",
       "    .dataframe tbody tr th {\n",
       "        vertical-align: top;\n",
       "    }\n",
       "\n",
       "    .dataframe thead th {\n",
       "        text-align: right;\n",
       "    }\n",
       "</style>\n",
       "<table border=\"1\" class=\"dataframe\">\n",
       "  <thead>\n",
       "    <tr style=\"text-align: right;\">\n",
       "      <th></th>\n",
       "      <th>index</th>\n",
       "      <th>city</th>\n",
       "      <th>new_name</th>\n",
       "    </tr>\n",
       "  </thead>\n",
       "  <tbody>\n",
       "    <tr>\n",
       "      <th>0</th>\n",
       "      <td>0</td>\n",
       "      <td>kota adm. jakarta selatan</td>\n",
       "      <td>kota adm. jakarta selatan</td>\n",
       "    </tr>\n",
       "    <tr>\n",
       "      <th>1</th>\n",
       "      <td>1</td>\n",
       "      <td>kota bekasi</td>\n",
       "      <td>kota bekasi</td>\n",
       "    </tr>\n",
       "    <tr>\n",
       "      <th>2</th>\n",
       "      <td>2</td>\n",
       "      <td>Kota Jakarta Selatan</td>\n",
       "      <td>kota jakarta selatan</td>\n",
       "    </tr>\n",
       "    <tr>\n",
       "      <th>3</th>\n",
       "      <td>3</td>\n",
       "      <td>Kota Jakarta Timur</td>\n",
       "      <td>kota jakarta timur</td>\n",
       "    </tr>\n",
       "    <tr>\n",
       "      <th>4</th>\n",
       "      <td>4</td>\n",
       "      <td>kota adm. jakarta timur</td>\n",
       "      <td>kota adm. jakarta timur</td>\n",
       "    </tr>\n",
       "    <tr>\n",
       "      <th>...</th>\n",
       "      <td>...</td>\n",
       "      <td>...</td>\n",
       "      <td>...</td>\n",
       "    </tr>\n",
       "    <tr>\n",
       "      <th>201</th>\n",
       "      <td>201</td>\n",
       "      <td>Kabupaten Lampung Timur Lampung</td>\n",
       "      <td>kabupaten lampung timur lampung</td>\n",
       "    </tr>\n",
       "    <tr>\n",
       "      <th>202</th>\n",
       "      <td>202</td>\n",
       "      <td>kab. rejang lebong</td>\n",
       "      <td>kab. rejang lebong</td>\n",
       "    </tr>\n",
       "    <tr>\n",
       "      <th>203</th>\n",
       "      <td>203</td>\n",
       "      <td>Kota Sukabumi</td>\n",
       "      <td>kota sukabumi</td>\n",
       "    </tr>\n",
       "    <tr>\n",
       "      <th>204</th>\n",
       "      <td>204</td>\n",
       "      <td>Kabupaten Kudus</td>\n",
       "      <td>kabupaten kudus</td>\n",
       "    </tr>\n",
       "    <tr>\n",
       "      <th>205</th>\n",
       "      <td>205</td>\n",
       "      <td>kota batu</td>\n",
       "      <td>kota batu</td>\n",
       "    </tr>\n",
       "  </tbody>\n",
       "</table>\n",
       "<p>206 rows × 3 columns</p>\n",
       "</div>"
      ],
      "text/plain": [
       "     index                             city                         new_name\n",
       "0        0        kota adm. jakarta selatan        kota adm. jakarta selatan\n",
       "1        1                      kota bekasi                      kota bekasi\n",
       "2        2             Kota Jakarta Selatan             kota jakarta selatan\n",
       "3        3               Kota Jakarta Timur               kota jakarta timur\n",
       "4        4          kota adm. jakarta timur          kota adm. jakarta timur\n",
       "..     ...                              ...                              ...\n",
       "201    201  Kabupaten Lampung Timur Lampung  kabupaten lampung timur lampung\n",
       "202    202               kab. rejang lebong               kab. rejang lebong\n",
       "203    203                    Kota Sukabumi                    kota sukabumi\n",
       "204    204                  Kabupaten Kudus                  kabupaten kudus\n",
       "205    205                        kota batu                        kota batu\n",
       "\n",
       "[206 rows x 3 columns]"
      ]
     },
     "execution_count": 23,
     "metadata": {},
     "output_type": "execute_result"
    }
   ],
   "source": [
    "df_city['new_name'] = df_city.city.str.lower()\n",
    "df_city"
   ]
  },
  {
   "cell_type": "code",
   "execution_count": 24,
   "id": "48103aae-7e80-4d85-a2a3-cd79588a1b02",
   "metadata": {},
   "outputs": [],
   "source": [
    "df_city['new_name'].replace(to_replace =\"kabupaten\",\n",
    "                 value =\"kab.\",regex=True, inplace=True)"
   ]
  },
  {
   "cell_type": "code",
   "execution_count": 25,
   "id": "f4840654-a9ce-46bb-89e3-88dd07a39b15",
   "metadata": {},
   "outputs": [
    {
     "data": {
      "text/html": [
       "<div>\n",
       "<style scoped>\n",
       "    .dataframe tbody tr th:only-of-type {\n",
       "        vertical-align: middle;\n",
       "    }\n",
       "\n",
       "    .dataframe tbody tr th {\n",
       "        vertical-align: top;\n",
       "    }\n",
       "\n",
       "    .dataframe thead th {\n",
       "        text-align: right;\n",
       "    }\n",
       "</style>\n",
       "<table border=\"1\" class=\"dataframe\">\n",
       "  <thead>\n",
       "    <tr style=\"text-align: right;\">\n",
       "      <th></th>\n",
       "      <th>index</th>\n",
       "      <th>city</th>\n",
       "      <th>new_name</th>\n",
       "      <th>length</th>\n",
       "    </tr>\n",
       "  </thead>\n",
       "  <tbody>\n",
       "    <tr>\n",
       "      <th>0</th>\n",
       "      <td>0</td>\n",
       "      <td>kota adm. jakarta selatan</td>\n",
       "      <td>kota adm. jakarta selatan</td>\n",
       "      <td>4</td>\n",
       "    </tr>\n",
       "    <tr>\n",
       "      <th>1</th>\n",
       "      <td>1</td>\n",
       "      <td>kota bekasi</td>\n",
       "      <td>kota bekasi</td>\n",
       "      <td>2</td>\n",
       "    </tr>\n",
       "    <tr>\n",
       "      <th>2</th>\n",
       "      <td>2</td>\n",
       "      <td>Kota Jakarta Selatan</td>\n",
       "      <td>kota jakarta selatan</td>\n",
       "      <td>3</td>\n",
       "    </tr>\n",
       "    <tr>\n",
       "      <th>3</th>\n",
       "      <td>3</td>\n",
       "      <td>Kota Jakarta Timur</td>\n",
       "      <td>kota jakarta timur</td>\n",
       "      <td>3</td>\n",
       "    </tr>\n",
       "    <tr>\n",
       "      <th>4</th>\n",
       "      <td>4</td>\n",
       "      <td>kota adm. jakarta timur</td>\n",
       "      <td>kota adm. jakarta timur</td>\n",
       "      <td>4</td>\n",
       "    </tr>\n",
       "    <tr>\n",
       "      <th>...</th>\n",
       "      <td>...</td>\n",
       "      <td>...</td>\n",
       "      <td>...</td>\n",
       "      <td>...</td>\n",
       "    </tr>\n",
       "    <tr>\n",
       "      <th>201</th>\n",
       "      <td>201</td>\n",
       "      <td>Kabupaten Lampung Timur Lampung</td>\n",
       "      <td>kab. lampung timur lampung</td>\n",
       "      <td>4</td>\n",
       "    </tr>\n",
       "    <tr>\n",
       "      <th>202</th>\n",
       "      <td>202</td>\n",
       "      <td>kab. rejang lebong</td>\n",
       "      <td>kab. rejang lebong</td>\n",
       "      <td>3</td>\n",
       "    </tr>\n",
       "    <tr>\n",
       "      <th>203</th>\n",
       "      <td>203</td>\n",
       "      <td>Kota Sukabumi</td>\n",
       "      <td>kota sukabumi</td>\n",
       "      <td>2</td>\n",
       "    </tr>\n",
       "    <tr>\n",
       "      <th>204</th>\n",
       "      <td>204</td>\n",
       "      <td>Kabupaten Kudus</td>\n",
       "      <td>kab. kudus</td>\n",
       "      <td>2</td>\n",
       "    </tr>\n",
       "    <tr>\n",
       "      <th>205</th>\n",
       "      <td>205</td>\n",
       "      <td>kota batu</td>\n",
       "      <td>kota batu</td>\n",
       "      <td>2</td>\n",
       "    </tr>\n",
       "  </tbody>\n",
       "</table>\n",
       "<p>206 rows × 4 columns</p>\n",
       "</div>"
      ],
      "text/plain": [
       "     index                             city                    new_name  \\\n",
       "0        0        kota adm. jakarta selatan   kota adm. jakarta selatan   \n",
       "1        1                      kota bekasi                 kota bekasi   \n",
       "2        2             Kota Jakarta Selatan        kota jakarta selatan   \n",
       "3        3               Kota Jakarta Timur          kota jakarta timur   \n",
       "4        4          kota adm. jakarta timur     kota adm. jakarta timur   \n",
       "..     ...                              ...                         ...   \n",
       "201    201  Kabupaten Lampung Timur Lampung  kab. lampung timur lampung   \n",
       "202    202               kab. rejang lebong          kab. rejang lebong   \n",
       "203    203                    Kota Sukabumi               kota sukabumi   \n",
       "204    204                  Kabupaten Kudus                  kab. kudus   \n",
       "205    205                        kota batu                   kota batu   \n",
       "\n",
       "     length  \n",
       "0         4  \n",
       "1         2  \n",
       "2         3  \n",
       "3         3  \n",
       "4         4  \n",
       "..      ...  \n",
       "201       4  \n",
       "202       3  \n",
       "203       2  \n",
       "204       2  \n",
       "205       2  \n",
       "\n",
       "[206 rows x 4 columns]"
      ]
     },
     "execution_count": 25,
     "metadata": {},
     "output_type": "execute_result"
    }
   ],
   "source": [
    "def get_length_word(word):\n",
    "    result = word.split(' ')\n",
    "    return len(result)\n",
    "\n",
    "\n",
    "df_city['length'] = df_city['new_name'].apply(lambda x : get_length_word(x))\n",
    "df_city"
   ]
  },
  {
   "cell_type": "code",
   "execution_count": 26,
   "id": "0d3fb8f1-c264-456c-8142-b169f7fec223",
   "metadata": {},
   "outputs": [
    {
     "data": {
      "text/html": [
       "<div>\n",
       "<style scoped>\n",
       "    .dataframe tbody tr th:only-of-type {\n",
       "        vertical-align: middle;\n",
       "    }\n",
       "\n",
       "    .dataframe tbody tr th {\n",
       "        vertical-align: top;\n",
       "    }\n",
       "\n",
       "    .dataframe thead th {\n",
       "        text-align: right;\n",
       "    }\n",
       "</style>\n",
       "<table border=\"1\" class=\"dataframe\">\n",
       "  <thead>\n",
       "    <tr style=\"text-align: right;\">\n",
       "      <th></th>\n",
       "      <th>length</th>\n",
       "      <th>new_name</th>\n",
       "      <th>index</th>\n",
       "      <th>split</th>\n",
       "      <th>new</th>\n",
       "    </tr>\n",
       "  </thead>\n",
       "  <tbody>\n",
       "    <tr>\n",
       "      <th>90</th>\n",
       "      <td>7</td>\n",
       "      <td>kota jakarta selatan daerah khusus ibukota jak...</td>\n",
       "      <td>90</td>\n",
       "      <td>[kota, jakarta, selatan, daerah, khusus, ibuko...</td>\n",
       "      <td>kota jakarta selatan</td>\n",
       "    </tr>\n",
       "    <tr>\n",
       "      <th>146</th>\n",
       "      <td>6</td>\n",
       "      <td>kab. lombok timur nusa tenggara barat</td>\n",
       "      <td>146</td>\n",
       "      <td>[kab., lombok, timur, nusa, tenggara, barat]</td>\n",
       "      <td>kab. lombok timur</td>\n",
       "    </tr>\n",
       "    <tr>\n",
       "      <th>150</th>\n",
       "      <td>5</td>\n",
       "      <td>kab. bandung barat jawa barat</td>\n",
       "      <td>150</td>\n",
       "      <td>[kab., bandung, barat, jawa, barat]</td>\n",
       "      <td>kab. bandung barat</td>\n",
       "    </tr>\n",
       "    <tr>\n",
       "      <th>166</th>\n",
       "      <td>9</td>\n",
       "      <td>kota bengkulu. padang nangka kec. singaran pat...</td>\n",
       "      <td>166</td>\n",
       "      <td>[kota, bengkulu., padang, nangka, kec., singar...</td>\n",
       "      <td>kota bengkulu. padang</td>\n",
       "    </tr>\n",
       "    <tr>\n",
       "      <th>168</th>\n",
       "      <td>7</td>\n",
       "      <td>kota jkt utara daerah khusus ibukota jakarta</td>\n",
       "      <td>168</td>\n",
       "      <td>[kota, jkt, utara, daerah, khusus, ibukota, ja...</td>\n",
       "      <td>kota jkt utara</td>\n",
       "    </tr>\n",
       "    <tr>\n",
       "      <th>182</th>\n",
       "      <td>7</td>\n",
       "      <td>kota jakarta barat daerah khusus ibukota jakarta</td>\n",
       "      <td>182</td>\n",
       "      <td>[kota, jakarta, barat, daerah, khusus, ibukota...</td>\n",
       "      <td>kota jakarta barat</td>\n",
       "    </tr>\n",
       "  </tbody>\n",
       "</table>\n",
       "</div>"
      ],
      "text/plain": [
       "     length                                           new_name  index  \\\n",
       "90        7  kota jakarta selatan daerah khusus ibukota jak...     90   \n",
       "146       6              kab. lombok timur nusa tenggara barat    146   \n",
       "150       5                      kab. bandung barat jawa barat    150   \n",
       "166       9  kota bengkulu. padang nangka kec. singaran pat...    166   \n",
       "168       7       kota jkt utara daerah khusus ibukota jakarta    168   \n",
       "182       7   kota jakarta barat daerah khusus ibukota jakarta    182   \n",
       "\n",
       "                                                 split                    new  \n",
       "90   [kota, jakarta, selatan, daerah, khusus, ibuko...   kota jakarta selatan  \n",
       "146       [kab., lombok, timur, nusa, tenggara, barat]      kab. lombok timur  \n",
       "150                [kab., bandung, barat, jawa, barat]     kab. bandung barat  \n",
       "166  [kota, bengkulu., padang, nangka, kec., singar...  kota bengkulu. padang  \n",
       "168  [kota, jkt, utara, daerah, khusus, ibukota, ja...         kota jkt utara  \n",
       "182  [kota, jakarta, barat, daerah, khusus, ibukota...     kota jakarta barat  "
      ]
     },
     "execution_count": 26,
     "metadata": {},
     "output_type": "execute_result"
    }
   ],
   "source": [
    "df_a = df_city[{'index','new_name','length'}]\n",
    "df_a = df_a[df_a['length'] > 4]\n",
    "df_a['split'] =df_a['new_name'].str.split()\n",
    "df_a['new'] = df_a['split'].str[0]+\" \"+df_a['split'].str[1]+\" \"+df_a['split'].str[2]\n",
    "df_a"
   ]
  },
  {
   "cell_type": "code",
   "execution_count": 27,
   "id": "2d0eadb0-3b04-4c91-93cd-4a926ad17399",
   "metadata": {},
   "outputs": [
    {
     "data": {
      "text/plain": [
       "[90, 146, 150, 166, 168, 182]"
      ]
     },
     "execution_count": 27,
     "metadata": {},
     "output_type": "execute_result"
    }
   ],
   "source": [
    "cit= list(df_a.index.value_counts().index)\n",
    "cit"
   ]
  },
  {
   "cell_type": "code",
   "execution_count": 28,
   "id": "518d7f20-5caa-4513-9a28-3b51181aac09",
   "metadata": {},
   "outputs": [
    {
     "data": {
      "text/html": [
       "<div>\n",
       "<style scoped>\n",
       "    .dataframe tbody tr th:only-of-type {\n",
       "        vertical-align: middle;\n",
       "    }\n",
       "\n",
       "    .dataframe tbody tr th {\n",
       "        vertical-align: top;\n",
       "    }\n",
       "\n",
       "    .dataframe thead th {\n",
       "        text-align: right;\n",
       "    }\n",
       "</style>\n",
       "<table border=\"1\" class=\"dataframe\">\n",
       "  <thead>\n",
       "    <tr style=\"text-align: right;\">\n",
       "      <th></th>\n",
       "      <th>index</th>\n",
       "      <th>city</th>\n",
       "      <th>new_name</th>\n",
       "      <th>length</th>\n",
       "    </tr>\n",
       "  </thead>\n",
       "  <tbody>\n",
       "    <tr>\n",
       "      <th>0</th>\n",
       "      <td>0</td>\n",
       "      <td>kota adm. jakarta selatan</td>\n",
       "      <td>kota adm. jakarta selatan</td>\n",
       "      <td>4</td>\n",
       "    </tr>\n",
       "    <tr>\n",
       "      <th>1</th>\n",
       "      <td>1</td>\n",
       "      <td>kota bekasi</td>\n",
       "      <td>kota bekasi</td>\n",
       "      <td>2</td>\n",
       "    </tr>\n",
       "    <tr>\n",
       "      <th>2</th>\n",
       "      <td>2</td>\n",
       "      <td>Kota Jakarta Selatan</td>\n",
       "      <td>kota jakarta selatan</td>\n",
       "      <td>3</td>\n",
       "    </tr>\n",
       "    <tr>\n",
       "      <th>3</th>\n",
       "      <td>3</td>\n",
       "      <td>Kota Jakarta Timur</td>\n",
       "      <td>kota jakarta timur</td>\n",
       "      <td>3</td>\n",
       "    </tr>\n",
       "    <tr>\n",
       "      <th>4</th>\n",
       "      <td>4</td>\n",
       "      <td>kota adm. jakarta timur</td>\n",
       "      <td>kota adm. jakarta timur</td>\n",
       "      <td>4</td>\n",
       "    </tr>\n",
       "    <tr>\n",
       "      <th>...</th>\n",
       "      <td>...</td>\n",
       "      <td>...</td>\n",
       "      <td>...</td>\n",
       "      <td>...</td>\n",
       "    </tr>\n",
       "    <tr>\n",
       "      <th>201</th>\n",
       "      <td>201</td>\n",
       "      <td>Kabupaten Lampung Timur Lampung</td>\n",
       "      <td>kab. lampung timur lampung</td>\n",
       "      <td>4</td>\n",
       "    </tr>\n",
       "    <tr>\n",
       "      <th>202</th>\n",
       "      <td>202</td>\n",
       "      <td>kab. rejang lebong</td>\n",
       "      <td>kab. rejang lebong</td>\n",
       "      <td>3</td>\n",
       "    </tr>\n",
       "    <tr>\n",
       "      <th>203</th>\n",
       "      <td>203</td>\n",
       "      <td>Kota Sukabumi</td>\n",
       "      <td>kota sukabumi</td>\n",
       "      <td>2</td>\n",
       "    </tr>\n",
       "    <tr>\n",
       "      <th>204</th>\n",
       "      <td>204</td>\n",
       "      <td>Kabupaten Kudus</td>\n",
       "      <td>kab. kudus</td>\n",
       "      <td>2</td>\n",
       "    </tr>\n",
       "    <tr>\n",
       "      <th>205</th>\n",
       "      <td>205</td>\n",
       "      <td>kota batu</td>\n",
       "      <td>kota batu</td>\n",
       "      <td>2</td>\n",
       "    </tr>\n",
       "  </tbody>\n",
       "</table>\n",
       "<p>206 rows × 4 columns</p>\n",
       "</div>"
      ],
      "text/plain": [
       "     index                             city                    new_name  \\\n",
       "0        0        kota adm. jakarta selatan   kota adm. jakarta selatan   \n",
       "1        1                      kota bekasi                 kota bekasi   \n",
       "2        2             Kota Jakarta Selatan        kota jakarta selatan   \n",
       "3        3               Kota Jakarta Timur          kota jakarta timur   \n",
       "4        4          kota adm. jakarta timur     kota adm. jakarta timur   \n",
       "..     ...                              ...                         ...   \n",
       "201    201  Kabupaten Lampung Timur Lampung  kab. lampung timur lampung   \n",
       "202    202               kab. rejang lebong          kab. rejang lebong   \n",
       "203    203                    Kota Sukabumi               kota sukabumi   \n",
       "204    204                  Kabupaten Kudus                  kab. kudus   \n",
       "205    205                        kota batu                   kota batu   \n",
       "\n",
       "     length  \n",
       "0         4  \n",
       "1         2  \n",
       "2         3  \n",
       "3         3  \n",
       "4         4  \n",
       "..      ...  \n",
       "201       4  \n",
       "202       3  \n",
       "203       2  \n",
       "204       2  \n",
       "205       2  \n",
       "\n",
       "[206 rows x 4 columns]"
      ]
     },
     "execution_count": 28,
     "metadata": {},
     "output_type": "execute_result"
    }
   ],
   "source": [
    "df_city.loc[df_city['length'] > 4,'new_name'] = df_a['new']\n",
    "df_city"
   ]
  },
  {
   "cell_type": "code",
   "execution_count": 29,
   "id": "0b4fbb6b-da14-46dc-93ec-e4e506063ba9",
   "metadata": {},
   "outputs": [],
   "source": [
    "df_b = df_city[df_city['new_name'] .str.contains('kota jakarta')].replace('jakarta','adm. jakarta', regex=True)\n",
    "# df_b = df_b['new_name'].str.replace('jakarta','adm. jakarta', regex=True)"
   ]
  },
  {
   "cell_type": "code",
   "execution_count": 30,
   "id": "4e1bd584-d4b1-4354-afff-7c2a7e242179",
   "metadata": {},
   "outputs": [
    {
     "data": {
      "text/html": [
       "<div>\n",
       "<style scoped>\n",
       "    .dataframe tbody tr th:only-of-type {\n",
       "        vertical-align: middle;\n",
       "    }\n",
       "\n",
       "    .dataframe tbody tr th {\n",
       "        vertical-align: top;\n",
       "    }\n",
       "\n",
       "    .dataframe thead th {\n",
       "        text-align: right;\n",
       "    }\n",
       "</style>\n",
       "<table border=\"1\" class=\"dataframe\">\n",
       "  <thead>\n",
       "    <tr style=\"text-align: right;\">\n",
       "      <th></th>\n",
       "      <th>index</th>\n",
       "      <th>city</th>\n",
       "      <th>new_name</th>\n",
       "      <th>length</th>\n",
       "    </tr>\n",
       "  </thead>\n",
       "  <tbody>\n",
       "    <tr>\n",
       "      <th>2</th>\n",
       "      <td>2</td>\n",
       "      <td>Kota Jakarta Selatan</td>\n",
       "      <td>kota adm. jakarta selatan</td>\n",
       "      <td>3</td>\n",
       "    </tr>\n",
       "    <tr>\n",
       "      <th>3</th>\n",
       "      <td>3</td>\n",
       "      <td>Kota Jakarta Timur</td>\n",
       "      <td>kota adm. jakarta timur</td>\n",
       "      <td>3</td>\n",
       "    </tr>\n",
       "    <tr>\n",
       "      <th>22</th>\n",
       "      <td>22</td>\n",
       "      <td>Kota Jakarta Pusat</td>\n",
       "      <td>kota adm. jakarta pusat</td>\n",
       "      <td>3</td>\n",
       "    </tr>\n",
       "    <tr>\n",
       "      <th>26</th>\n",
       "      <td>26</td>\n",
       "      <td>Kota Jakarta Barat</td>\n",
       "      <td>kota adm. jakarta barat</td>\n",
       "      <td>3</td>\n",
       "    </tr>\n",
       "    <tr>\n",
       "      <th>90</th>\n",
       "      <td>90</td>\n",
       "      <td>Kota Jakarta Selatan Daerah Khusus Ibukota Jak...</td>\n",
       "      <td>kota adm. jakarta selatan</td>\n",
       "      <td>7</td>\n",
       "    </tr>\n",
       "    <tr>\n",
       "      <th>182</th>\n",
       "      <td>182</td>\n",
       "      <td>Kota Jakarta Barat Daerah Khusus Ibukota Jakarta</td>\n",
       "      <td>kota adm. jakarta barat</td>\n",
       "      <td>7</td>\n",
       "    </tr>\n",
       "  </tbody>\n",
       "</table>\n",
       "</div>"
      ],
      "text/plain": [
       "     index                                               city  \\\n",
       "2        2                               Kota Jakarta Selatan   \n",
       "3        3                                 Kota Jakarta Timur   \n",
       "22      22                                 Kota Jakarta Pusat   \n",
       "26      26                                 Kota Jakarta Barat   \n",
       "90      90  Kota Jakarta Selatan Daerah Khusus Ibukota Jak...   \n",
       "182    182   Kota Jakarta Barat Daerah Khusus Ibukota Jakarta   \n",
       "\n",
       "                      new_name  length  \n",
       "2    kota adm. jakarta selatan       3  \n",
       "3      kota adm. jakarta timur       3  \n",
       "22     kota adm. jakarta pusat       3  \n",
       "26     kota adm. jakarta barat       3  \n",
       "90   kota adm. jakarta selatan       7  \n",
       "182    kota adm. jakarta barat       7  "
      ]
     },
     "execution_count": 30,
     "metadata": {},
     "output_type": "execute_result"
    }
   ],
   "source": [
    "df_b"
   ]
  },
  {
   "cell_type": "code",
   "execution_count": 31,
   "id": "9b8008d2-6896-4b45-919b-f6bdd5d85088",
   "metadata": {},
   "outputs": [
    {
     "data": {
      "text/plain": [
       "[2, 3, 22, 26, 90, 182]"
      ]
     },
     "execution_count": 31,
     "metadata": {},
     "output_type": "execute_result"
    }
   ],
   "source": [
    "replace_jakarta= list(df_b.index.value_counts().index)\n",
    "replace_jakarta"
   ]
  },
  {
   "cell_type": "code",
   "execution_count": 32,
   "id": "2adfc4fa-0bdd-4db1-a628-905739637e21",
   "metadata": {},
   "outputs": [
    {
     "data": {
      "text/html": [
       "<div>\n",
       "<style scoped>\n",
       "    .dataframe tbody tr th:only-of-type {\n",
       "        vertical-align: middle;\n",
       "    }\n",
       "\n",
       "    .dataframe tbody tr th {\n",
       "        vertical-align: top;\n",
       "    }\n",
       "\n",
       "    .dataframe thead th {\n",
       "        text-align: right;\n",
       "    }\n",
       "</style>\n",
       "<table border=\"1\" class=\"dataframe\">\n",
       "  <thead>\n",
       "    <tr style=\"text-align: right;\">\n",
       "      <th></th>\n",
       "      <th>index</th>\n",
       "      <th>city</th>\n",
       "      <th>new_name</th>\n",
       "      <th>length</th>\n",
       "    </tr>\n",
       "  </thead>\n",
       "  <tbody>\n",
       "    <tr>\n",
       "      <th>0</th>\n",
       "      <td>0</td>\n",
       "      <td>kota adm. jakarta selatan</td>\n",
       "      <td>kota adm. jakarta selatan</td>\n",
       "      <td>4</td>\n",
       "    </tr>\n",
       "    <tr>\n",
       "      <th>1</th>\n",
       "      <td>1</td>\n",
       "      <td>kota bekasi</td>\n",
       "      <td>kota bekasi</td>\n",
       "      <td>2</td>\n",
       "    </tr>\n",
       "    <tr>\n",
       "      <th>2</th>\n",
       "      <td>2</td>\n",
       "      <td>Kota Jakarta Selatan</td>\n",
       "      <td>kota adm. jakarta selatan</td>\n",
       "      <td>3</td>\n",
       "    </tr>\n",
       "    <tr>\n",
       "      <th>3</th>\n",
       "      <td>3</td>\n",
       "      <td>Kota Jakarta Timur</td>\n",
       "      <td>kota adm. jakarta timur</td>\n",
       "      <td>3</td>\n",
       "    </tr>\n",
       "    <tr>\n",
       "      <th>4</th>\n",
       "      <td>4</td>\n",
       "      <td>kota adm. jakarta timur</td>\n",
       "      <td>kota adm. jakarta timur</td>\n",
       "      <td>4</td>\n",
       "    </tr>\n",
       "    <tr>\n",
       "      <th>...</th>\n",
       "      <td>...</td>\n",
       "      <td>...</td>\n",
       "      <td>...</td>\n",
       "      <td>...</td>\n",
       "    </tr>\n",
       "    <tr>\n",
       "      <th>201</th>\n",
       "      <td>201</td>\n",
       "      <td>Kabupaten Lampung Timur Lampung</td>\n",
       "      <td>kab. lampung timur lampung</td>\n",
       "      <td>4</td>\n",
       "    </tr>\n",
       "    <tr>\n",
       "      <th>202</th>\n",
       "      <td>202</td>\n",
       "      <td>kab. rejang lebong</td>\n",
       "      <td>kab. rejang lebong</td>\n",
       "      <td>3</td>\n",
       "    </tr>\n",
       "    <tr>\n",
       "      <th>203</th>\n",
       "      <td>203</td>\n",
       "      <td>Kota Sukabumi</td>\n",
       "      <td>kota sukabumi</td>\n",
       "      <td>2</td>\n",
       "    </tr>\n",
       "    <tr>\n",
       "      <th>204</th>\n",
       "      <td>204</td>\n",
       "      <td>Kabupaten Kudus</td>\n",
       "      <td>kab. kudus</td>\n",
       "      <td>2</td>\n",
       "    </tr>\n",
       "    <tr>\n",
       "      <th>205</th>\n",
       "      <td>205</td>\n",
       "      <td>kota batu</td>\n",
       "      <td>kota batu</td>\n",
       "      <td>2</td>\n",
       "    </tr>\n",
       "  </tbody>\n",
       "</table>\n",
       "<p>206 rows × 4 columns</p>\n",
       "</div>"
      ],
      "text/plain": [
       "     index                             city                    new_name  \\\n",
       "0        0        kota adm. jakarta selatan   kota adm. jakarta selatan   \n",
       "1        1                      kota bekasi                 kota bekasi   \n",
       "2        2             Kota Jakarta Selatan   kota adm. jakarta selatan   \n",
       "3        3               Kota Jakarta Timur     kota adm. jakarta timur   \n",
       "4        4          kota adm. jakarta timur     kota adm. jakarta timur   \n",
       "..     ...                              ...                         ...   \n",
       "201    201  Kabupaten Lampung Timur Lampung  kab. lampung timur lampung   \n",
       "202    202               kab. rejang lebong          kab. rejang lebong   \n",
       "203    203                    Kota Sukabumi               kota sukabumi   \n",
       "204    204                  Kabupaten Kudus                  kab. kudus   \n",
       "205    205                        kota batu                   kota batu   \n",
       "\n",
       "     length  \n",
       "0         4  \n",
       "1         2  \n",
       "2         3  \n",
       "3         3  \n",
       "4         4  \n",
       "..      ...  \n",
       "201       4  \n",
       "202       3  \n",
       "203       2  \n",
       "204       2  \n",
       "205       2  \n",
       "\n",
       "[206 rows x 4 columns]"
      ]
     },
     "execution_count": 32,
     "metadata": {},
     "output_type": "execute_result"
    }
   ],
   "source": [
    "df_city.loc[replace_jakarta,'new_name'] = df_b['new_name']\n",
    "df_city"
   ]
  },
  {
   "cell_type": "code",
   "execution_count": 33,
   "id": "0e89d14d-a31a-45e2-9310-d690c46a8278",
   "metadata": {},
   "outputs": [
    {
     "data": {
      "text/html": [
       "<div>\n",
       "<style scoped>\n",
       "    .dataframe tbody tr th:only-of-type {\n",
       "        vertical-align: middle;\n",
       "    }\n",
       "\n",
       "    .dataframe tbody tr th {\n",
       "        vertical-align: top;\n",
       "    }\n",
       "\n",
       "    .dataframe thead th {\n",
       "        text-align: right;\n",
       "    }\n",
       "</style>\n",
       "<table border=\"1\" class=\"dataframe\">\n",
       "  <thead>\n",
       "    <tr style=\"text-align: right;\">\n",
       "      <th></th>\n",
       "      <th>index</th>\n",
       "      <th>city</th>\n",
       "      <th>new_name</th>\n",
       "      <th>length</th>\n",
       "    </tr>\n",
       "  </thead>\n",
       "  <tbody>\n",
       "    <tr>\n",
       "      <th>172</th>\n",
       "      <td>172</td>\n",
       "      <td>Sukabumi City</td>\n",
       "      <td>sukabumi city</td>\n",
       "      <td>2</td>\n",
       "    </tr>\n",
       "    <tr>\n",
       "      <th>190</th>\n",
       "      <td>190</td>\n",
       "      <td>Surabaya City</td>\n",
       "      <td>surabaya city</td>\n",
       "      <td>2</td>\n",
       "    </tr>\n",
       "  </tbody>\n",
       "</table>\n",
       "</div>"
      ],
      "text/plain": [
       "     index           city       new_name  length\n",
       "172    172  Sukabumi City  sukabumi city       2\n",
       "190    190  Surabaya City  surabaya city       2"
      ]
     },
     "execution_count": 33,
     "metadata": {},
     "output_type": "execute_result"
    }
   ],
   "source": [
    "df_c = df_city[df_city['new_name'] .str.contains('city')]\n",
    "df_c"
   ]
  },
  {
   "cell_type": "code",
   "execution_count": 34,
   "id": "874d6de1-c852-4324-8e8b-ed98241be3e9",
   "metadata": {},
   "outputs": [
    {
     "data": {
      "text/html": [
       "<div>\n",
       "<style scoped>\n",
       "    .dataframe tbody tr th:only-of-type {\n",
       "        vertical-align: middle;\n",
       "    }\n",
       "\n",
       "    .dataframe tbody tr th {\n",
       "        vertical-align: top;\n",
       "    }\n",
       "\n",
       "    .dataframe thead th {\n",
       "        text-align: right;\n",
       "    }\n",
       "</style>\n",
       "<table border=\"1\" class=\"dataframe\">\n",
       "  <thead>\n",
       "    <tr style=\"text-align: right;\">\n",
       "      <th></th>\n",
       "      <th>index</th>\n",
       "      <th>city</th>\n",
       "      <th>new_name</th>\n",
       "      <th>length</th>\n",
       "    </tr>\n",
       "  </thead>\n",
       "  <tbody>\n",
       "    <tr>\n",
       "      <th>159</th>\n",
       "      <td>159</td>\n",
       "      <td>Bantul Regency</td>\n",
       "      <td>bantul regency</td>\n",
       "      <td>2</td>\n",
       "    </tr>\n",
       "    <tr>\n",
       "      <th>178</th>\n",
       "      <td>178</td>\n",
       "      <td>Karawang Regency</td>\n",
       "      <td>karawang regency</td>\n",
       "      <td>2</td>\n",
       "    </tr>\n",
       "    <tr>\n",
       "      <th>180</th>\n",
       "      <td>180</td>\n",
       "      <td>Sidoarjo Regency</td>\n",
       "      <td>sidoarjo regency</td>\n",
       "      <td>2</td>\n",
       "    </tr>\n",
       "  </tbody>\n",
       "</table>\n",
       "</div>"
      ],
      "text/plain": [
       "     index              city          new_name  length\n",
       "159    159    Bantul Regency    bantul regency       2\n",
       "178    178  Karawang Regency  karawang regency       2\n",
       "180    180  Sidoarjo Regency  sidoarjo regency       2"
      ]
     },
     "execution_count": 34,
     "metadata": {},
     "output_type": "execute_result"
    }
   ],
   "source": [
    "df_d = df_city[df_city['new_name'] .str.contains('regency')]\n",
    "df_d"
   ]
  },
  {
   "cell_type": "code",
   "execution_count": 35,
   "id": "8acf3715-b456-4841-b85d-e49bb7e662b0",
   "metadata": {},
   "outputs": [
    {
     "data": {
      "text/html": [
       "<div>\n",
       "<style scoped>\n",
       "    .dataframe tbody tr th:only-of-type {\n",
       "        vertical-align: middle;\n",
       "    }\n",
       "\n",
       "    .dataframe tbody tr th {\n",
       "        vertical-align: top;\n",
       "    }\n",
       "\n",
       "    .dataframe thead th {\n",
       "        text-align: right;\n",
       "    }\n",
       "</style>\n",
       "<table border=\"1\" class=\"dataframe\">\n",
       "  <thead>\n",
       "    <tr style=\"text-align: right;\">\n",
       "      <th></th>\n",
       "      <th>index</th>\n",
       "      <th>city</th>\n",
       "      <th>new_name</th>\n",
       "      <th>length</th>\n",
       "    </tr>\n",
       "  </thead>\n",
       "  <tbody>\n",
       "    <tr>\n",
       "      <th>28</th>\n",
       "      <td>28</td>\n",
       "      <td>Kota SBY</td>\n",
       "      <td>kota sby</td>\n",
       "      <td>2</td>\n",
       "    </tr>\n",
       "  </tbody>\n",
       "</table>\n",
       "</div>"
      ],
      "text/plain": [
       "    index      city  new_name  length\n",
       "28     28  Kota SBY  kota sby       2"
      ]
     },
     "execution_count": 35,
     "metadata": {},
     "output_type": "execute_result"
    }
   ],
   "source": [
    "df_e = df_city[df_city['new_name'] .str.contains('sby')]\n",
    "df_e"
   ]
  },
  {
   "cell_type": "code",
   "execution_count": 36,
   "id": "9bf4ca6f-23cd-4ccc-b143-559eee947440",
   "metadata": {},
   "outputs": [
    {
     "data": {
      "text/html": [
       "<div>\n",
       "<style scoped>\n",
       "    .dataframe tbody tr th:only-of-type {\n",
       "        vertical-align: middle;\n",
       "    }\n",
       "\n",
       "    .dataframe tbody tr th {\n",
       "        vertical-align: top;\n",
       "    }\n",
       "\n",
       "    .dataframe thead th {\n",
       "        text-align: right;\n",
       "    }\n",
       "</style>\n",
       "<table border=\"1\" class=\"dataframe\">\n",
       "  <thead>\n",
       "    <tr style=\"text-align: right;\">\n",
       "      <th></th>\n",
       "      <th>index</th>\n",
       "      <th>city</th>\n",
       "      <th>new_name</th>\n",
       "      <th>length</th>\n",
       "    </tr>\n",
       "  </thead>\n",
       "  <tbody>\n",
       "    <tr>\n",
       "      <th>32</th>\n",
       "      <td>32</td>\n",
       "      <td>Kota Bks</td>\n",
       "      <td>kota bks</td>\n",
       "      <td>2</td>\n",
       "    </tr>\n",
       "  </tbody>\n",
       "</table>\n",
       "</div>"
      ],
      "text/plain": [
       "    index      city  new_name  length\n",
       "32     32  Kota Bks  kota bks       2"
      ]
     },
     "execution_count": 36,
     "metadata": {},
     "output_type": "execute_result"
    }
   ],
   "source": [
    "df_f = df_city[df_city['new_name'] .str.contains('bks')]\n",
    "df_f"
   ]
  },
  {
   "cell_type": "code",
   "execution_count": null,
   "id": "f6330542-91de-4a6c-8294-5743c6a68075",
   "metadata": {},
   "outputs": [],
   "source": []
  },
  {
   "cell_type": "code",
   "execution_count": null,
   "id": "50795c2b-4504-489b-bced-ac9b13fcc19c",
   "metadata": {},
   "outputs": [],
   "source": []
  },
  {
   "cell_type": "code",
   "execution_count": null,
   "id": "822a3ad9-b0bd-4b31-9d22-e448be74ad3e",
   "metadata": {},
   "outputs": [],
   "source": []
  },
  {
   "cell_type": "code",
   "execution_count": null,
   "id": "a7cea9d3-c822-4943-b88c-37706eccd803",
   "metadata": {},
   "outputs": [],
   "source": []
  },
  {
   "cell_type": "code",
   "execution_count": null,
   "id": "407b93d2-9b7c-4016-9e29-995be9d15824",
   "metadata": {},
   "outputs": [],
   "source": []
  },
  {
   "cell_type": "code",
   "execution_count": null,
   "id": "d0c6ae61-8331-40f1-886e-1f6ceb322cdf",
   "metadata": {},
   "outputs": [],
   "source": []
  }
 ],
 "metadata": {
  "kernelspec": {
   "display_name": "Python 3 (ipykernel)",
   "language": "python",
   "name": "python3"
  },
  "language_info": {
   "codemirror_mode": {
    "name": "ipython",
    "version": 3
   },
   "file_extension": ".py",
   "mimetype": "text/x-python",
   "name": "python",
   "nbconvert_exporter": "python",
   "pygments_lexer": "ipython3",
   "version": "3.7.4"
  }
 },
 "nbformat": 4,
 "nbformat_minor": 5
}
